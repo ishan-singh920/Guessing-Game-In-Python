{
  "nbformat": 4,
  "nbformat_minor": 0,
  "metadata": {
    "colab": {
      "provenance": []
    },
    "kernelspec": {
      "name": "python3",
      "display_name": "Python 3"
    },
    "language_info": {
      "name": "python"
    }
  },
  "cells": [
    {
      "cell_type": "markdown",
      "source": [
        "Guessing Game Program In Python"
      ],
      "metadata": {
        "id": "HNUFmOphRBNF"
      }
    },
    {
      "cell_type": "code",
      "execution_count": 1,
      "metadata": {
        "colab": {
          "base_uri": "https://localhost:8080/"
        },
        "id": "WtjO04tuOXSZ",
        "outputId": "1b02d0aa-3c5a-48d7-b572-db1c7818a88e"
      },
      "outputs": [
        {
          "output_type": "stream",
          "name": "stdout",
          "text": [
            "Welcome to the Game, Enter Your Name:Ishan Singh\n",
            "hi, Ishan Singh I am Guessing a number between 1 and 100:\n",
            "Choose the difficulty Level, Type 'easy' or 'hard':hard\n",
            "You have 5 attempts to guess the number\n",
            "Make a guess: 55\n",
            "Your guess is too low \n",
            " Guess Again\n",
            "You have 4 attempts to guess the number\n",
            "Make a guess: 75\n",
            "Your guess is too low \n",
            " Guess Again\n",
            "You have 3 attempts to guess the number\n",
            "Make a guess: 85\n",
            "Your guess is too low \n",
            " Guess Again\n",
            "You have 2 attempts to guess the number\n",
            "Make a guess: 90\n",
            "Your guess is too high \n",
            " Guess Again\n",
            "You have 1 attempts to guess the number\n",
            "Make a guess: 87\n",
            "Your guess is too low \n",
            " Guess Again\n",
            "you Lost the game, all attempts are over\n",
            "the actual annwer: 88\n"
          ]
        }
      ],
      "source": [
        "import random\n",
        "\n",
        "\n",
        "answer = random.randint(1,100)\n",
        "# print(answer)\n",
        "\n",
        "\n",
        "\n",
        "userName = input(\"Welcome to the Game, Enter Your Name:\")\n",
        "print(f\"hi, {userName} I am Guessing a number between 1 and 100:\")\n",
        "\n",
        "\n",
        "# chooseLevel = 5 or 10\n",
        "\n",
        "\n",
        "while True:\n",
        "  chooseLevel = input(\"Choose the difficulty Level, Type 'easy' or 'hard':\")\n",
        "\n",
        "  if chooseLevel.lower() == \"easy\":\n",
        "    guesses = 10\n",
        "    break\n",
        "  if chooseLevel.lower() == \"hard\":\n",
        "    guesses = 5\n",
        "    break\n",
        "\n",
        "  print(\"pelease type only given options\")\n",
        "\n",
        "# print(guesses)\n",
        "\n",
        "\n",
        "\n",
        "\n",
        "triesLeft = guesses\n",
        "\n",
        "while guesses != 0:\n",
        "  print(f\"You have {guesses} attempts to guess the number\")\n",
        "\n",
        "  userGuess = input(f\"Make a guess: \")\n",
        "\n",
        "  if userGuess.isdigit():\n",
        "    userGuess = int(userGuess)\n",
        "\n",
        "    if userGuess == answer:\n",
        "      print(f\"You got it!  The answer was {userGuess}.\")\n",
        "      print(f\"You guessed the number in {triesLeft - guesses +1} tries!\")\n",
        "      break\n",
        "\n",
        "    elif userGuess > answer:\n",
        "      print(\"Your guess is too high \\n Guess Again\")\n",
        "      guesses -= 1\n",
        "\n",
        "    else:\n",
        "      print(\"Your guess is too low \\n Guess Again\")\n",
        "      guesses -= 1\n",
        "\n",
        "  else:\n",
        "    print(\"Please enter only Numbers from 1 to 100\")\n",
        "\n",
        "\n",
        "if guesses == 0:\n",
        "  print(\"you Lost the game, all attempts are over\")\n",
        "  print(\"the actual annwer:\", answer)"
      ]
    }
  ]
}